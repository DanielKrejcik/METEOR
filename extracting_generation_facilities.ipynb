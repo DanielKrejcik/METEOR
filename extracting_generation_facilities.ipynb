{
 "cells": [
  {
   "attachments": {},
   "cell_type": "markdown",
   "metadata": {},
   "source": [
    "# Extracting Data from Marktstammdatenregister for further examination \n",
    "renewable generation facilities (Wind, solar) located in 50Hertz-grid that received funds from renewbale support regime (Erneuerbare Energien Gesetz EEG)"
   ]
  },
  {
   "cell_type": "code",
   "execution_count": 65,
   "metadata": {},
   "outputs": [],
   "source": [
    "import pandas as pd\n",
    "import numpy as np\n",
    "import matplotlib.pyplot as plt\n",
    "import seaborn as sns"
   ]
  },
  {
   "attachments": {},
   "cell_type": "markdown",
   "metadata": {},
   "source": [
    "## total capacity wind and solar 50 Hz aggregates per Bundesland"
   ]
  },
  {
   "cell_type": "code",
   "execution_count": 66,
   "metadata": {},
   "outputs": [],
   "source": [
    "data = r\"C:\\Users\\danie\\Desktop\\WBS.DataScience_Bootcamp\\final_project\\Kraftwerksliste_CSV_utf.csv\"\n",
    "plants = pd.read_csv(data, sep=\";\", encoding=\"utf8\")\n",
    "wind_solar_50_Hz = plants[(\n",
    "                (plants[\"Bundesland der Einheit\"]==\"Hamburg\") |\n",
    "                (plants[\"Bundesland der Einheit\"]==\"Mecklenburg-Vorpommern\") |\n",
    "                (plants[\"Bundesland der Einheit\"]==\"Brandenburg\") |\n",
    "                (plants[\"Bundesland der Einheit\"]==\"Berlin\") |\n",
    "                (plants[\"Bundesland der Einheit\"]==\"Sachsen-Anhalt\") |\n",
    "                (plants[\"Bundesland der Einheit\"]==\"Thueringen\") |\n",
    "                (plants[\"Bundesland der Einheit\"]==\"Sachsen\")\n",
    "                )\n",
    "                &\n",
    "                (\n",
    "                (plants[\"Energieträger\"] == \"Solare Strahlungsenergie\") |\n",
    "                (plants[\"Energieträger\"] == \"Windenergie (Onshore-Anlage)\") |\n",
    "                (plants[\"Energieträger\"] == \"Windenergie (Offshore-Anlage)\")\n",
    "                )]"
   ]
  },
  {
   "attachments": {},
   "cell_type": "markdown",
   "metadata": {},
   "source": [
    "## EEG-funded facilities in 50 HZ grid 2021"
   ]
  },
  {
   "cell_type": "code",
   "execution_count": null,
   "metadata": {},
   "outputs": [],
   "source": [
    "data = r\"C:\\Users\\danie\\Desktop\\WBS.DataScience_Bootcamp\\final_project\\50Hertz Transmission GmbH EEG-Zahlungen Bewegungsdaten 2021.csv\"\n",
    "EEG_2021_50_hz = pd.read_csv(data, sep=\";\")"
   ]
  },
  {
   "cell_type": "code",
   "execution_count": null,
   "metadata": {},
   "outputs": [],
   "source": [
    "EEG_2021_50_hz.info()"
   ]
  },
  {
   "cell_type": "code",
   "execution_count": null,
   "metadata": {},
   "outputs": [],
   "source": [
    "EEG_2021_50_hz.EEG_Mastr_Nr.nunique()"
   ]
  },
  {
   "attachments": {},
   "cell_type": "markdown",
   "metadata": {},
   "source": [
    "not all facilities listed have EEG_Mastr_Nr"
   ]
  },
  {
   "cell_type": "code",
   "execution_count": null,
   "metadata": {},
   "outputs": [],
   "source": [
    "EEG_2021_50_hz[EEG_2021_50_hz.EEG_Mastr_Nr.isna()]"
   ]
  },
  {
   "attachments": {},
   "cell_type": "markdown",
   "metadata": {},
   "source": [
    "actual generation and installed generation capacity for total 50 HZ grid per hour in 2020/21"
   ]
  },
  {
   "cell_type": "code",
   "execution_count": null,
   "metadata": {},
   "outputs": [],
   "source": [
    "data = r\"C:\\Users\\danie\\Desktop\\WBS.DataScience_Bootcamp\\final_project\\Realisierte_Erzeugung_50_Hertz_2020_2021_Hour.csv\"\n",
    "generation_50_hz = pd.read_csv(data, sep=\";\")\n",
    "data = r\"C:\\Users\\danie\\Desktop\\WBS.DataScience_Bootcamp\\final_project\\Installierte_Erzeugungsleistung_50_Hertz_2020_2021_Hour.csv\"\n",
    "capacity_50_hz = pd.read_csv(data, sep=\";\")"
   ]
  },
  {
   "attachments": {},
   "cell_type": "markdown",
   "metadata": {},
   "source": [
    "spotmarket_prices electricity EEX, very low and even negative prices indicate abundance of renewable electricity generation"
   ]
  },
  {
   "cell_type": "code",
   "execution_count": null,
   "metadata": {},
   "outputs": [],
   "source": [
    "data = r\"C:\\Users\\danie\\Desktop\\WBS.DataScience_Bootcamp\\final_project\\new_csv\\spot_market_2021_onwards.csv\"\n",
    "spot_market = pd.read_csv(data)"
   ]
  },
  {
   "attachments": {},
   "cell_type": "markdown",
   "metadata": {},
   "source": [
    "PV in 50 HZ zone"
   ]
  },
  {
   "cell_type": "code",
   "execution_count": null,
   "metadata": {},
   "outputs": [],
   "source": [
    "def mastr_import_fac(n):\n",
    "    data = rf\"C:\\Users\\danie\\Desktop\\WBS.DataScience_Bootcamp\\final_project\\MaStR\\EinheitenSolar_{n}.xml\"\n",
    "    solar_fac = pd.read_xml(data, encoding=\"utf-16\")\n",
    "    solar_fac_50_hz = solar_fac[solar_fac.EegMaStRNummer.isin(EEG_2021_50_hz.EEG_Mastr_Nr)]\n",
    "    return solar_fac_50_hz\n",
    "\n",
    "solar_fac_50hz = []\n",
    "for i in range(1,30):\n",
    "    solar_fac_50hz.append(mastr_import_fac(i))\n",
    "pv_fac_50_hz = pd.concat(solar_fac_50hz)"
   ]
  },
  {
   "cell_type": "code",
   "execution_count": null,
   "metadata": {},
   "outputs": [],
   "source": [
    "pv_fac_50_hz.info()"
   ]
  },
  {
   "cell_type": "code",
   "execution_count": null,
   "metadata": {},
   "outputs": [],
   "source": [
    "def mastr_import(n):\n",
    "    data = rf\"C:\\Users\\danie\\Desktop\\WBS.DataScience_Bootcamp\\final_project\\MaStR\\AnlagenEegSolar_{n}.xml\"\n",
    "    solar = pd.read_xml(data, encoding=\"utf-16\")\n",
    "    solar_50_hz = solar[(solar.EegMaStRNummer.isin(EEG_2021_50_hz.EEG_Mastr_Nr)) | (solar.AnlagenschluesselEeg.isin(EEG_2021_50_hz[\"EEG_Anlagenschlüssel\"]))]\n",
    "    return solar_50_hz\n",
    "\n",
    "solar_50hz = []\n",
    "for i in range(1,30):\n",
    "    solar_50hz.append(mastr_import(i))\n",
    "pv_50_hz = pd.concat(solar_50hz)"
   ]
  },
  {
   "cell_type": "code",
   "execution_count": null,
   "metadata": {},
   "outputs": [],
   "source": [
    "pv_50_hz.info()"
   ]
  },
  {
   "cell_type": "code",
   "execution_count": null,
   "metadata": {},
   "outputs": [],
   "source": [
    "pv = pv_50_hz.copy()"
   ]
  },
  {
   "cell_type": "code",
   "execution_count": null,
   "metadata": {},
   "outputs": [],
   "source": [
    "pv_50_hz.EegMaStRNummer.nunique()"
   ]
  },
  {
   "cell_type": "code",
   "execution_count": null,
   "metadata": {},
   "outputs": [],
   "source": [
    "## filtering raw data by \"Anlagenschlüssel\"\n",
    "def mastr_import(n):\n",
    "    data = rf\"C:\\Users\\danie\\Desktop\\WBS.DataScience_Bootcamp\\final_project\\MaStR\\AnlagenEegSolar_{n}.xml\"\n",
    "    solar = pd.read_xml(data, encoding=\"utf-16\")\n",
    "    solar_50_hz = solar[solar.AnlagenschluesselEeg.isin(EEG_2021_50_hz[\"EEG_Anlagenschlüssel\"])]\n",
    "    return solar_50_hz\n",
    "\n",
    "solar_50hz = []\n",
    "for i in range(1,30):\n",
    "    solar_50hz.append(mastr_import(i))\n",
    "anlagenschluessel_pv_50_hz = pd.concat(solar_50hz)"
   ]
  },
  {
   "cell_type": "code",
   "execution_count": null,
   "metadata": {},
   "outputs": [],
   "source": [
    "anlagenschluessel_pv_50_hz.info()"
   ]
  },
  {
   "cell_type": "code",
   "execution_count": null,
   "metadata": {},
   "outputs": [],
   "source": [
    "pv_50_hz.AnlagenschluesselEeg.nunique()"
   ]
  },
  {
   "cell_type": "code",
   "execution_count": null,
   "metadata": {},
   "outputs": [],
   "source": [
    "pv_50_hz.EegMaStRNummer.nunique()"
   ]
  },
  {
   "cell_type": "code",
   "execution_count": null,
   "metadata": {},
   "outputs": [],
   "source": [
    "pv_50_hz.to_csv(\"solar_50_hz.csv\", index=False)"
   ]
  },
  {
   "cell_type": "code",
   "execution_count": null,
   "metadata": {},
   "outputs": [],
   "source": [
    "pv_50_hz.AnlagenschluesselEeg.nunique()"
   ]
  },
  {
   "cell_type": "code",
   "execution_count": null,
   "metadata": {},
   "outputs": [],
   "source": [
    "anlagenschluessel_pv_50_hz.EegMaStRNummer.nunique()"
   ]
  },
  {
   "cell_type": "code",
   "execution_count": null,
   "metadata": {},
   "outputs": [],
   "source": [
    "anlagenschluessel_pv_50_hz.AnlagenschluesselEeg.nunique()"
   ]
  },
  {
   "cell_type": "code",
   "execution_count": null,
   "metadata": {},
   "outputs": [],
   "source": [
    "pv_50_hz[(pv_50_hz.AnlagenschluesselEeg.isna()==False) & (pv_50_hz.)]"
   ]
  },
  {
   "cell_type": "code",
   "execution_count": null,
   "metadata": {},
   "outputs": [],
   "source": [
    "#testing pv_fac with mastr-numbers from pv-50-hz instead of 50-hz-eeg \n",
    "def mastr_import_fac(n):\n",
    "    data = rf\"C:\\Users\\danie\\Desktop\\WBS.DataScience_Bootcamp\\final_project\\MaStR\\EinheitenSolar_{n}.xml\"\n",
    "    solar_fac = pd.read_xml(data, encoding=\"utf-16\")\n",
    "    solar_fac_50_hz = solar_fac[solar_fac.EegMaStRNummer.isin(pv_50_hz.EegMaStRNummer)]\n",
    "    return solar_fac_50_hz\n",
    "\n",
    "solar_fac_50hz = []\n",
    "for i in range(1,30):\n",
    "    solar_fac_50hz.append(mastr_import_fac(i))\n",
    "fac_pv_50_hz = pd.concat(solar_fac_50hz)"
   ]
  },
  {
   "cell_type": "code",
   "execution_count": null,
   "metadata": {},
   "outputs": [],
   "source": [
    "fac_pv_50_hz.info()"
   ]
  },
  {
   "cell_type": "code",
   "execution_count": null,
   "metadata": {},
   "outputs": [],
   "source": [
    "fac_pv_50_hz[fac_pv_50_hz.EinheitMastrNummer.isin(pv_fac_50_hz.EinheitMastrNummer)==False]\n",
    "\n",
    "## short glimpse on those rows show, that they are (at least partially) located in eastern germany, so the DF extracted based on pv_50_hz instead of EEG_50_hz is kept and extracted"
   ]
  },
  {
   "cell_type": "code",
   "execution_count": null,
   "metadata": {},
   "outputs": [],
   "source": [
    "fac_pv_50_hz.to_csv(\"solar_50hz_facilities.csv\", index=False)"
   ]
  },
  {
   "attachments": {},
   "cell_type": "markdown",
   "metadata": {},
   "source": [
    "biomass in 50 HZ grid"
   ]
  },
  {
   "cell_type": "code",
   "execution_count": null,
   "metadata": {},
   "outputs": [],
   "source": [
    "data = r\"C:\\Users\\danie\\Desktop\\WBS.DataScience_Bootcamp\\final_project\\MaStR\\EinheitenBiomasse.xml\"\n",
    "biomass_fac = pd.read_xml(data, encoding=\"utf-16\")\n",
    "biomass_fac_50_Hz = biomass_fac[biomass_fac.EegMaStRNummer.isin(EEG_2021_50_hz.EEG_Mastr_Nr)]"
   ]
  },
  {
   "cell_type": "code",
   "execution_count": null,
   "metadata": {},
   "outputs": [],
   "source": [
    "data = r\"C:\\Users\\danie\\Desktop\\WBS.DataScience_Bootcamp\\final_project\\MaStR\\AnlagenEegBiomasse.xml\"\n",
    "biomass = pd.read_xml(data, encoding=\"utf-16\")\n",
    "biomass_50_hz = biomass[biomass.EegMaStRNummer.isin(EEG_2021_50_hz.EEG_Mastr_Nr)]"
   ]
  },
  {
   "attachments": {},
   "cell_type": "markdown",
   "metadata": {},
   "source": [
    "wind in 50 Hz grid"
   ]
  },
  {
   "cell_type": "code",
   "execution_count": null,
   "metadata": {},
   "outputs": [],
   "source": [
    "data = r\"C:\\Users\\danie\\Desktop\\WBS.DataScience_Bootcamp\\final_project\\MaStR\\EinheitenWind.xml\"\n",
    "wind_fac = pd.read_xml(data, encoding=\"utf-16\")\n",
    "wind_fac_50_hz = wind_fac[wind_fac.EegMaStRNummer.isin(EEG_2021_50_hz.EEG_Mastr_Nr)]"
   ]
  },
  {
   "cell_type": "code",
   "execution_count": null,
   "metadata": {},
   "outputs": [],
   "source": [
    "wind_fac_50_hz.info()"
   ]
  },
  {
   "cell_type": "code",
   "execution_count": null,
   "metadata": {},
   "outputs": [],
   "source": [
    "data = r\"C:\\Users\\danie\\Desktop\\WBS.DataScience_Bootcamp\\final_project\\MaStR\\AnlagenEegWind.xml\"\n",
    "wind = pd.read_xml(data, encoding=\"utf-16\")\n",
    "wind_50_hz = wind[wind.EegMaStRNummer.isin(EEG_2021_50_hz.EEG_Mastr_Nr)]"
   ]
  },
  {
   "cell_type": "code",
   "execution_count": null,
   "metadata": {},
   "outputs": [],
   "source": [
    "wind_50_hz.info()"
   ]
  },
  {
   "cell_type": "code",
   "execution_count": null,
   "metadata": {},
   "outputs": [],
   "source": [
    "data = r\"C:\\Users\\danie\\Desktop\\WBS.DataScience_Bootcamp\\final_project\\MaStR\\AnlagenEegWind.xml\"\n",
    "wind = pd.read_xml(data, encoding=\"utf-16\")\n",
    "anlagenschlüssel_wind_50_hz = wind[wind.AnlagenschluesselEeg.isin(EEG_2021_50_hz[\"EEG_Anlagenschlüssel\"])]"
   ]
  },
  {
   "cell_type": "code",
   "execution_count": null,
   "metadata": {},
   "outputs": [],
   "source": [
    "anlagenschlüssel_wind_50_hz.info()"
   ]
  },
  {
   "cell_type": "code",
   "execution_count": null,
   "metadata": {},
   "outputs": [],
   "source": [
    "## wind combined\n",
    "data = r\"C:\\Users\\danie\\Desktop\\WBS.DataScience_Bootcamp\\final_project\\MaStR\\AnlagenEegWind.xml\"\n",
    "wind = pd.read_xml(data, encoding=\"utf-16\")\n",
    "combined_wind_50_hz = wind[(wind.AnlagenschluesselEeg.isin(EEG_2021_50_hz[\"EEG_Anlagenschlüssel\"])) | (wind.EegMaStRNummer.isin(EEG_2021_50_hz.EEG_Mastr_Nr))]\n",
    "\n"
   ]
  },
  {
   "cell_type": "code",
   "execution_count": null,
   "metadata": {},
   "outputs": [],
   "source": [
    "combined_wind_50_hz.info()"
   ]
  },
  {
   "cell_type": "code",
   "execution_count": null,
   "metadata": {},
   "outputs": [],
   "source": [
    "combined_wind_50_hz.to_csv(\"wind_50_hz.csv\", index=False)"
   ]
  },
  {
   "cell_type": "code",
   "execution_count": null,
   "metadata": {},
   "outputs": [],
   "source": [
    "data = r\"C:\\Users\\danie\\Desktop\\WBS.DataScience_Bootcamp\\final_project\\MaStR\\EinheitenWind.xml\"\n",
    "fac_wind = pd.read_xml(data, encoding=\"utf-16\")\n",
    "fac_wind_50_hz = fac_wind[fac_wind.EegMaStRNummer.isin(combined_wind_50_hz.EegMaStRNummer)] "
   ]
  },
  {
   "cell_type": "code",
   "execution_count": null,
   "metadata": {},
   "outputs": [],
   "source": [
    "fac_wind_50_hz.info()"
   ]
  },
  {
   "cell_type": "code",
   "execution_count": null,
   "metadata": {},
   "outputs": [],
   "source": [
    "fac_wind_50_hz.to_csv(\"wind_50_hz_facilities.csv\", index=False)"
   ]
  },
  {
   "attachments": {},
   "cell_type": "markdown",
   "metadata": {},
   "source": [
    "many qualitative columns are encoded in numeric values, importing the \"catalogue_values\""
   ]
  },
  {
   "cell_type": "code",
   "execution_count": null,
   "metadata": {},
   "outputs": [],
   "source": [
    "data = r\"C:\\Users\\danie\\Desktop\\WBS.DataScience_Bootcamp\\final_project\\MaStR\\Katalogwerte.xml\"\n",
    "catalogue_values = pd.read_xml(data, encoding=\"utf-16\")"
   ]
  }
 ],
 "metadata": {
  "kernelspec": {
   "display_name": "base",
   "language": "python",
   "name": "python3"
  },
  "language_info": {
   "codemirror_mode": {
    "name": "ipython",
    "version": 3
   },
   "file_extension": ".py",
   "mimetype": "text/x-python",
   "name": "python",
   "nbconvert_exporter": "python",
   "pygments_lexer": "ipython3",
   "version": "3.9.13"
  },
  "orig_nbformat": 4
 },
 "nbformat": 4,
 "nbformat_minor": 2
}
