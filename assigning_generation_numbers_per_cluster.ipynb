{
 "cells": [
  {
   "cell_type": "code",
   "execution_count": 191,
   "metadata": {},
   "outputs": [],
   "source": [
    "import pandas as pd\n",
    "import numpy as np"
   ]
  },
  {
   "cell_type": "code",
   "execution_count": 192,
   "metadata": {},
   "outputs": [],
   "source": [
    "meteo_3015 = pd.read_csv(r\"C:\\Users\\danie\\Desktop\\WBS.DataScience_Bootcamp\\final_project\\weather_stations\\df_meteo_3015.csv\")\n",
    "meteo_3987 = pd.read_csv(r\"C:\\Users\\danie\\Desktop\\WBS.DataScience_Bootcamp\\final_project\\weather_stations\\df_meteo_3987.csv\")\n",
    "meteo_4271 = pd.read_csv(r\"C:\\Users\\danie\\Desktop\\WBS.DataScience_Bootcamp\\final_project\\weather_stations\\df_meteo_4271.csv\")\n",
    "meteo_4642 = pd.read_csv(r\"C:\\Users\\danie\\Desktop\\WBS.DataScience_Bootcamp\\final_project\\weather_stations\\df_meteo_4642.csv\")\n",
    "meteo_5142 = pd.read_csv(r\"C:\\Users\\danie\\Desktop\\WBS.DataScience_Bootcamp\\final_project\\weather_stations\\df_meteo_5142.csv\")\n",
    "meteo_0853 = pd.read_csv(r\"C:\\Users\\danie\\Desktop\\WBS.DataScience_Bootcamp\\final_project\\weather_stations\\df_meteo_0853.csv\")\n",
    "meteo_1975 = pd.read_csv(r\"C:\\Users\\danie\\Desktop\\WBS.DataScience_Bootcamp\\final_project\\weather_stations\\df_meteo_1975.csv\")\n",
    "meteo_2925 = pd.read_csv(r\"C:\\Users\\danie\\Desktop\\WBS.DataScience_Bootcamp\\final_project\\weather_stations\\df_meteo_2925.csv\")\n",
    "real_gen_20_21 = pd.read_csv(r\"C:\\Users\\danie\\Desktop\\WBS.DataScience_Bootcamp\\final_project\\realtime_generation_wind_solar_2020_2021.csv\", sep=\";\")\n",
    "offshore_weigths = pd.read_csv(r\"C:\\Users\\danie\\Desktop\\WBS.DataScience_Bootcamp\\final_project\\weights_offshore.csv\")\n",
    "onshore_weigths = pd.read_csv(r\"C:\\Users\\danie\\Desktop\\WBS.DataScience_Bootcamp\\final_project\\weighted_stations_wind.csv\")\n",
    "solar_weights = pd.read_csv(r\"C:\\Users\\danie\\Desktop\\WBS.DataScience_Bootcamp\\final_project\\weighted_stations_solar.csv\")\n",
    "stations = pd.read_csv(r\"C:\\Users\\danie\\Desktop\\WBS.DataScience_Bootcamp\\final_project\\stations.csv\")"
   ]
  },
  {
   "cell_type": "code",
   "execution_count": 193,
   "metadata": {},
   "outputs": [],
   "source": [
    "sta_8 = stations.iloc[[8, 9, 10, 11, 12, 0, 4, 5], :].sort_values(\"sta_id\").reset_index()\n"
   ]
  },
  {
   "cell_type": "code",
   "execution_count": 194,
   "metadata": {},
   "outputs": [
    {
     "data": {
      "text/html": [
       "<div>\n",
       "<style scoped>\n",
       "    .dataframe tbody tr th:only-of-type {\n",
       "        vertical-align: middle;\n",
       "    }\n",
       "\n",
       "    .dataframe tbody tr th {\n",
       "        vertical-align: top;\n",
       "    }\n",
       "\n",
       "    .dataframe thead th {\n",
       "        text-align: right;\n",
       "    }\n",
       "</style>\n",
       "<table border=\"1\" class=\"dataframe\">\n",
       "  <thead>\n",
       "    <tr style=\"text-align: right;\">\n",
       "      <th></th>\n",
       "      <th>sta_id</th>\n",
       "      <th>lat</th>\n",
       "      <th>lon</th>\n",
       "      <th>sta_name</th>\n",
       "    </tr>\n",
       "  </thead>\n",
       "  <tbody>\n",
       "    <tr>\n",
       "      <th>0</th>\n",
       "      <td>853</td>\n",
       "      <td>50.7913</td>\n",
       "      <td>12.8720</td>\n",
       "      <td>Chemnitz</td>\n",
       "    </tr>\n",
       "    <tr>\n",
       "      <th>1</th>\n",
       "      <td>1975</td>\n",
       "      <td>53.6332</td>\n",
       "      <td>9.9881</td>\n",
       "      <td>Hamburg-Fuhlsbuettel</td>\n",
       "    </tr>\n",
       "    <tr>\n",
       "      <th>2</th>\n",
       "      <td>2925</td>\n",
       "      <td>51.3932</td>\n",
       "      <td>10.3123</td>\n",
       "      <td>Leinefelde</td>\n",
       "    </tr>\n",
       "    <tr>\n",
       "      <th>3</th>\n",
       "      <td>3015</td>\n",
       "      <td>52.2085</td>\n",
       "      <td>14.1180</td>\n",
       "      <td>Lindenberg</td>\n",
       "    </tr>\n",
       "    <tr>\n",
       "      <th>4</th>\n",
       "      <td>3987</td>\n",
       "      <td>52.3812</td>\n",
       "      <td>13.0622</td>\n",
       "      <td>Potsdam</td>\n",
       "    </tr>\n",
       "    <tr>\n",
       "      <th>5</th>\n",
       "      <td>4271</td>\n",
       "      <td>54.1803</td>\n",
       "      <td>12.0808</td>\n",
       "      <td>Rostock-Warnemuende</td>\n",
       "    </tr>\n",
       "    <tr>\n",
       "      <th>6</th>\n",
       "      <td>4642</td>\n",
       "      <td>52.8911</td>\n",
       "      <td>11.7297</td>\n",
       "      <td>Seehausen</td>\n",
       "    </tr>\n",
       "    <tr>\n",
       "      <th>7</th>\n",
       "      <td>5142</td>\n",
       "      <td>53.7445</td>\n",
       "      <td>14.0698</td>\n",
       "      <td>Ueckermuende</td>\n",
       "    </tr>\n",
       "  </tbody>\n",
       "</table>\n",
       "</div>"
      ],
      "text/plain": [
       "   sta_id      lat      lon              sta_name\n",
       "0     853  50.7913  12.8720              Chemnitz\n",
       "1    1975  53.6332   9.9881  Hamburg-Fuhlsbuettel\n",
       "2    2925  51.3932  10.3123            Leinefelde\n",
       "3    3015  52.2085  14.1180            Lindenberg\n",
       "4    3987  52.3812  13.0622               Potsdam\n",
       "5    4271  54.1803  12.0808   Rostock-Warnemuende\n",
       "6    4642  52.8911  11.7297             Seehausen\n",
       "7    5142  53.7445  14.0698          Ueckermuende"
      ]
     },
     "execution_count": 194,
     "metadata": {},
     "output_type": "execute_result"
    }
   ],
   "source": [
    "sta_8 = sta_8.iloc[:, [1, 3, 4, 5]]\n",
    "sta_8"
   ]
  },
  {
   "cell_type": "code",
   "execution_count": 195,
   "metadata": {},
   "outputs": [],
   "source": [
    "data_sta_0 = (meteo_0853[(meteo_0853.Measurement_Time > \"2020\") & (meteo_0853.Measurement_Time< \"2022\")].reset_index()).iloc[1:, :]"
   ]
  },
  {
   "cell_type": "code",
   "execution_count": 196,
   "metadata": {},
   "outputs": [],
   "source": [
    "data_sta_1 = (meteo_1975[(meteo_1975.Measurement_Time > \"2020\") & (meteo_1975.Measurement_Time< \"2022\")].reset_index()).iloc[1:, :]"
   ]
  },
  {
   "cell_type": "code",
   "execution_count": 197,
   "metadata": {},
   "outputs": [],
   "source": [
    "data_sta_2 = (meteo_2925[(meteo_2925.Measurement_Time > \"2020\") & (meteo_2925.Measurement_Time< \"2022\")].reset_index()).iloc[1:, :]"
   ]
  },
  {
   "cell_type": "code",
   "execution_count": 198,
   "metadata": {},
   "outputs": [],
   "source": [
    "data_sta_3 = (meteo_3015[(meteo_3015.Measurement_Time > \"2020\") & (meteo_3015.Measurement_Time< \"2022\")].reset_index()).iloc[1:, :]"
   ]
  },
  {
   "cell_type": "code",
   "execution_count": 199,
   "metadata": {},
   "outputs": [],
   "source": [
    "data_sta_3 = (meteo_3015[(meteo_3015.Measurement_Time > \"2020\") & (meteo_3015.Measurement_Time< \"2022\")].reset_index()).iloc[1:, :]"
   ]
  },
  {
   "cell_type": "code",
   "execution_count": 200,
   "metadata": {},
   "outputs": [],
   "source": [
    "data_sta_4 = (meteo_3987[(meteo_3987.Measurement_Time > \"2020\") & (meteo_3987.Measurement_Time< \"2022\")].reset_index()).iloc[1:, :]"
   ]
  },
  {
   "cell_type": "code",
   "execution_count": 201,
   "metadata": {},
   "outputs": [],
   "source": [
    "data_sta_5 = (meteo_4271[(meteo_4271.Measurement_Time > \"2020\") & (meteo_4271.Measurement_Time< \"2022\")].reset_index()).iloc[1:, :]"
   ]
  },
  {
   "cell_type": "code",
   "execution_count": 202,
   "metadata": {},
   "outputs": [],
   "source": [
    "data_sta_6 = (meteo_4642[(meteo_4642.Measurement_Time > \"2020\") & (meteo_4642.Measurement_Time< \"2022\")].reset_index()).iloc[1:, :]"
   ]
  },
  {
   "cell_type": "code",
   "execution_count": 203,
   "metadata": {},
   "outputs": [],
   "source": [
    "data_sta_7 = (meteo_5142[(meteo_5142.Measurement_Time > \"2020\") & (meteo_5142.Measurement_Time< \"2022\")].reset_index()).iloc[1:, :]"
   ]
  },
  {
   "cell_type": "code",
   "execution_count": 205,
   "metadata": {},
   "outputs": [],
   "source": [
    "for i in range(len(solar_weights)):\n",
    "    real_gen_20_21[f\"sta_{i}_solar_gen\"] = (solar_weights.generation_weight[i])*(real_gen_20_21.solar_MWh)\n",
    "    real_gen_20_21[f\"sta_{i}_onshore_gen\"] = (onshore_weigths.generation_weight[i])*(real_gen_20_21.wind_onshore_MWh)\n",
    "    real_gen_20_21[f\"sta_{i}_solar_cap\"] = (solar_weights.capacity_weight[i])*(real_gen_20_21.solar_MWh)\n",
    "    real_gen_20_21[f\"sta_{i}_onshore_cap\"] = (onshore_weigths.capacity_weight[i])*(real_gen_20_21.wind_onshore_MWh)"
   ]
  },
  {
   "cell_type": "code",
   "execution_count": 206,
   "metadata": {},
   "outputs": [],
   "source": [
    "off_gen_cap_5 = []\n",
    "off_gen_gen_5 = []\n",
    "off_gen_cap_7 = []\n",
    "off_gen_gen_7 = []\n",
    "\n",
    "for i in real_gen_20_21.wind_offshore_MWh:\n",
    "    off_gen_cap_5.append(i * offshore_weigths.iloc[0, 3])\n",
    "    off_gen_gen_5.append(i * offshore_weigths.iloc[0, 5])\n",
    "    off_gen_cap_7.append(i * offshore_weigths.iloc[1, 3])\n",
    "    off_gen_gen_7.append(i * offshore_weigths.iloc[1, 5])"
   ]
  },
  {
   "cell_type": "code",
   "execution_count": 207,
   "metadata": {},
   "outputs": [],
   "source": [
    "data_sta_0[\"solar_gen_cap\"] = real_gen_20_21.sta_0_solar_cap\n",
    "data_sta_0[\"solar_gen_gen\"] = real_gen_20_21.sta_0_solar_gen\n",
    "data_sta_0[\"onshore_gen_cap\"] = real_gen_20_21.sta_0_onshore_cap\n",
    "data_sta_0[\"onshore_gen_gen\"] = real_gen_20_21.sta_0_onshore_gen\n",
    "data_sta_1[\"solar_gen_cap\"] = real_gen_20_21.sta_1_solar_cap\n",
    "data_sta_1[\"solar_gen_gen\"] = real_gen_20_21.sta_1_solar_gen\n",
    "data_sta_1[\"onshore_gen_cap\"] = real_gen_20_21.sta_1_onshore_cap\n",
    "data_sta_1[\"onshore_gen_gen\"] = real_gen_20_21.sta_1_onshore_gen\n",
    "data_sta_2[\"solar_gen_cap\"] = real_gen_20_21.sta_2_solar_cap\n",
    "data_sta_2[\"solar_gen_gen\"] = real_gen_20_21.sta_2_solar_gen\n",
    "data_sta_2[\"onshore_gen_cap\"] = real_gen_20_21.sta_2_onshore_cap\n",
    "data_sta_2[\"onshore_gen_gen\"] = real_gen_20_21.sta_2_onshore_gen\n",
    "data_sta_3[\"solar_gen_cap\"] = real_gen_20_21.sta_3_solar_cap\n",
    "data_sta_3[\"solar_gen_gen\"] = real_gen_20_21.sta_3_solar_gen\n",
    "data_sta_3[\"onshore_gen_cap\"] = real_gen_20_21.sta_3_onshore_cap\n",
    "data_sta_3[\"onshore_gen_gen\"] = real_gen_20_21.sta_3_onshore_gen\n",
    "data_sta_4[\"solar_gen_cap\"] = real_gen_20_21.sta_4_solar_cap\n",
    "data_sta_4[\"solar_gen_gen\"] = real_gen_20_21.sta_4_solar_gen\n",
    "data_sta_4[\"onshore_gen_cap\"] = real_gen_20_21.sta_4_onshore_cap\n",
    "data_sta_4[\"onshore_gen_gen\"] = real_gen_20_21.sta_4_onshore_gen\n",
    "data_sta_5[\"solar_gen_cap\"] = real_gen_20_21.sta_5_solar_cap\n",
    "data_sta_5[\"solar_gen_gen\"] = real_gen_20_21.sta_5_solar_gen\n",
    "data_sta_5[\"onshore_gen_cap\"] = real_gen_20_21.sta_5_onshore_cap\n",
    "data_sta_5[\"onshore_gen_gen\"] = real_gen_20_21.sta_5_onshore_gen\n",
    "data_sta_6[\"solar_gen_cap\"] = real_gen_20_21.sta_6_solar_cap\n",
    "data_sta_6[\"solar_gen_gen\"] = real_gen_20_21.sta_6_solar_gen\n",
    "data_sta_6[\"onshore_gen_cap\"] = real_gen_20_21.sta_6_onshore_cap\n",
    "data_sta_6[\"onshore_gen_gen\"] = real_gen_20_21.sta_6_onshore_gen\n",
    "data_sta_7[\"solar_gen_cap\"] = real_gen_20_21.sta_7_solar_cap\n",
    "data_sta_7[\"solar_gen_gen\"] = real_gen_20_21.sta_7_solar_gen\n",
    "data_sta_7[\"onshore_gen_cap\"] = real_gen_20_21.sta_7_onshore_cap\n",
    "data_sta_7[\"onshore_gen_gen\"] = real_gen_20_21.sta_7_onshore_gen"
   ]
  },
  {
   "cell_type": "code",
   "execution_count": 208,
   "metadata": {},
   "outputs": [],
   "source": [
    "data_sta_5[\"offshore_gen_cap\"] = off_gen_cap_5\n",
    "data_sta_5[\"offshore_gen_gen\"] = off_gen_gen_5\n",
    "data_sta_7[\"offshore_gen_cap\"] = off_gen_cap_7\n",
    "data_sta_7[\"offshore_gen_gen\"] = off_gen_gen_7"
   ]
  },
  {
   "cell_type": "code",
   "execution_count": 211,
   "metadata": {},
   "outputs": [],
   "source": [
    "data_sta_0.to_csv(\"sta_0_gen.csv\")\n",
    "data_sta_1.to_csv(\"sta_1_gen.csv\")\n",
    "data_sta_2.to_csv(\"sta_2_gen.csv\")\n",
    "data_sta_3.to_csv(\"sta_3_gen.csv\")\n",
    "data_sta_4.to_csv(\"sta_4_gen.csv\")\n",
    "data_sta_5.to_csv(\"sta_5_gen.csv\")\n",
    "data_sta_6.to_csv(\"sta_6_gen.csv\")\n",
    "data_sta_7.to_csv(\"sta_7_gen.csv\")"
   ]
  }
 ],
 "metadata": {
  "kernelspec": {
   "display_name": "base",
   "language": "python",
   "name": "python3"
  },
  "language_info": {
   "codemirror_mode": {
    "name": "ipython",
    "version": 3
   },
   "file_extension": ".py",
   "mimetype": "text/x-python",
   "name": "python",
   "nbconvert_exporter": "python",
   "pygments_lexer": "ipython3",
   "version": "3.9.13"
  },
  "orig_nbformat": 4
 },
 "nbformat": 4,
 "nbformat_minor": 2
}
